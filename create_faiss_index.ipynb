{
 "cells": [
  {
   "cell_type": "markdown",
   "metadata": {},
   "source": [
    "In this notebook we generate the faiss index with their corresponding passages. The input for the functions is the ATLAS index shards directory, which can be downloaded using:\n",
    "```\n",
    "python atlas/preprocessing/download_index.py --index indices/atlas/wiki/base --output_directory {OUTPUT_INDEX_DIR} \n",
    "```"
   ]
  },
  {
   "cell_type": "code",
   "execution_count": 1,
   "metadata": {},
   "outputs": [],
   "source": [
    "import numpy as np\n",
    "import faiss\n",
    "import torch\n",
    "import os\n",
    "import pickle"
   ]
  },
  {
   "cell_type": "code",
   "execution_count": 2,
   "metadata": {},
   "outputs": [],
   "source": [
    "# ATLAS index shards\n",
    "output_index_dir = '/home/tkolb/data/indices/atlas/wiki/base'\n",
    "\n",
    "# Index output path\n",
    "index_path = '/home/tkolb/data/faiss_index.index'\n",
    "\n",
    "# Passages output path\n",
    "passages_path = f'/home/tkolb/data/wiki_passages.pkl'"
   ]
  },
  {
   "cell_type": "code",
   "execution_count": 3,
   "metadata": {},
   "outputs": [],
   "source": [
    "# Load index in chunks that fit into GPU memory\n",
    "def load_embeddings_in_chunks(path, chunk_size=4):\n",
    "    embeddings = []\n",
    "    embeddings_files = sorted([f for f in os.listdir(path) if f.startswith('embeddings')], key=lambda f: int(f.split('.')[1]))\n",
    "    for filename in embeddings_files:\n",
    "        print(filename)\n",
    "        file_path = os.path.join(path, filename)\n",
    "        data = torch.load(file_path, map_location='cpu')\n",
    "        embeddings.append(data)\n",
    "        if len(embeddings) == chunk_size:\n",
    "            yield torch.cat(embeddings, dim=1)\n",
    "            embeddings = []\n",
    "    if embeddings:\n",
    "        yield torch.cat(embeddings, dim=1)"
   ]
  },
  {
   "cell_type": "code",
   "execution_count": 4,
   "metadata": {},
   "outputs": [],
   "source": [
    "# Build FAISS .index file with chunk_size and max number of files (num_files)\n",
    "def build_faiss_index_incrementally(vectors_path, index_path, chunk_size=4, num_files=28):\n",
    "    d = None\n",
    "    index = None\n",
    "\n",
    "    for i, embeddings in enumerate(load_embeddings_in_chunks(vectors_path, chunk_size)):\n",
    "        embeddings = embeddings.swapaxes(0, 1)\n",
    "        embeddings_np = np.ascontiguousarray(embeddings.numpy()).astype(np.float32)\n",
    "        if d is None:\n",
    "            d = embeddings_np.shape[1]\n",
    "            index = faiss.IndexFlatL2(d)\n",
    "        index.add(embeddings_np)\n",
    "        \n",
    "        if (i+1)*chunk_size >= num_files:\n",
    "            break\n",
    "        \n",
    "    # index = faiss.read_index(index_path)\n",
    "    faiss.write_index(index, index_path)\n",
    "    return index"
   ]
  },
  {
   "cell_type": "code",
   "execution_count": 5,
   "metadata": {},
   "outputs": [
    {
     "ename": "FileNotFoundError",
     "evalue": "[Errno 2] No such file or directory: '/home/tkolb/data/indices/atlas/wiki/base'",
     "output_type": "error",
     "traceback": [
      "\u001b[0;31m---------------------------------------------------------------------------\u001b[0m",
      "\u001b[0;31mFileNotFoundError\u001b[0m                         Traceback (most recent call last)",
      "Cell \u001b[0;32mIn[5], line 1\u001b[0m\n\u001b[0;32m----> 1\u001b[0m index \u001b[38;5;241m=\u001b[39m \u001b[43mbuild_faiss_index_incrementally\u001b[49m\u001b[43m(\u001b[49m\u001b[43moutput_index_dir\u001b[49m\u001b[43m,\u001b[49m\u001b[43m \u001b[49m\u001b[43mindex_path\u001b[49m\u001b[43m)\u001b[49m\n",
      "Cell \u001b[0;32mIn[4], line 6\u001b[0m, in \u001b[0;36mbuild_faiss_index_incrementally\u001b[0;34m(vectors_path, index_path, chunk_size, num_files)\u001b[0m\n\u001b[1;32m      3\u001b[0m d \u001b[38;5;241m=\u001b[39m \u001b[38;5;28;01mNone\u001b[39;00m\n\u001b[1;32m      4\u001b[0m index \u001b[38;5;241m=\u001b[39m \u001b[38;5;28;01mNone\u001b[39;00m\n\u001b[0;32m----> 6\u001b[0m \u001b[38;5;28;01mfor\u001b[39;00m i, embeddings \u001b[38;5;129;01min\u001b[39;00m \u001b[38;5;28menumerate\u001b[39m(load_embeddings_in_chunks(vectors_path, chunk_size)):\n\u001b[1;32m      7\u001b[0m     embeddings \u001b[38;5;241m=\u001b[39m embeddings\u001b[38;5;241m.\u001b[39mswapaxes(\u001b[38;5;241m0\u001b[39m, \u001b[38;5;241m1\u001b[39m)\n\u001b[1;32m      8\u001b[0m     embeddings_np \u001b[38;5;241m=\u001b[39m np\u001b[38;5;241m.\u001b[39mascontiguousarray(embeddings\u001b[38;5;241m.\u001b[39mnumpy())\u001b[38;5;241m.\u001b[39mastype(np\u001b[38;5;241m.\u001b[39mfloat32)\n",
      "Cell \u001b[0;32mIn[3], line 4\u001b[0m, in \u001b[0;36mload_embeddings_in_chunks\u001b[0;34m(path, chunk_size)\u001b[0m\n\u001b[1;32m      2\u001b[0m \u001b[38;5;28;01mdef\u001b[39;00m \u001b[38;5;21mload_embeddings_in_chunks\u001b[39m(path, chunk_size\u001b[38;5;241m=\u001b[39m\u001b[38;5;241m4\u001b[39m):\n\u001b[1;32m      3\u001b[0m     embeddings \u001b[38;5;241m=\u001b[39m []\n\u001b[0;32m----> 4\u001b[0m     embeddings_files \u001b[38;5;241m=\u001b[39m \u001b[38;5;28msorted\u001b[39m([f \u001b[38;5;28;01mfor\u001b[39;00m f \u001b[38;5;129;01min\u001b[39;00m \u001b[43mos\u001b[49m\u001b[38;5;241;43m.\u001b[39;49m\u001b[43mlistdir\u001b[49m\u001b[43m(\u001b[49m\u001b[43mpath\u001b[49m\u001b[43m)\u001b[49m \u001b[38;5;28;01mif\u001b[39;00m f\u001b[38;5;241m.\u001b[39mstartswith(\u001b[38;5;124m'\u001b[39m\u001b[38;5;124membeddings\u001b[39m\u001b[38;5;124m'\u001b[39m)], key\u001b[38;5;241m=\u001b[39m\u001b[38;5;28;01mlambda\u001b[39;00m f: \u001b[38;5;28mint\u001b[39m(f\u001b[38;5;241m.\u001b[39msplit(\u001b[38;5;124m'\u001b[39m\u001b[38;5;124m.\u001b[39m\u001b[38;5;124m'\u001b[39m)[\u001b[38;5;241m1\u001b[39m]))\n\u001b[1;32m      5\u001b[0m     \u001b[38;5;28;01mfor\u001b[39;00m filename \u001b[38;5;129;01min\u001b[39;00m embeddings_files:\n\u001b[1;32m      6\u001b[0m         \u001b[38;5;28mprint\u001b[39m(filename)\n",
      "\u001b[0;31mFileNotFoundError\u001b[0m: [Errno 2] No such file or directory: '/home/tkolb/data/indices/atlas/wiki/base'"
     ]
    }
   ],
   "source": [
    "index = build_faiss_index_incrementally(output_index_dir, index_path)"
   ]
  },
  {
   "cell_type": "code",
   "execution_count": 4,
   "metadata": {},
   "outputs": [
    {
     "data": {
      "text/plain": [
       "(768, 7030352)"
      ]
     },
     "execution_count": 4,
     "metadata": {},
     "output_type": "execute_result"
    }
   ],
   "source": [
    "# Load index to test\n",
    "index = faiss.read_index(index_path)\n",
    "index.d, index.ntotal"
   ]
  },
  {
   "cell_type": "code",
   "execution_count": 14,
   "metadata": {},
   "outputs": [],
   "source": [
    "# Build complete wiki passages file from shards with max number of files (num_files)\n",
    "def build_passages(output_index_dir, passages_path, num_files=28):\n",
    "    passages_list = []\n",
    "    passages_files = sorted([f for f in os.listdir(output_index_dir) if f.startswith('passages')], key=lambda f: int(f.split('.')[1]))\n",
    "    for i, filename in enumerate(passages_files):\n",
    "        print(filename)\n",
    "        file_path = os.path.join(output_index_dir, filename)\n",
    "        with open(file_path, \"rb\") as fobj:\n",
    "            passages = pickle.load(fobj)\n",
    "            passages_list += passages\n",
    "            \n",
    "        if i == num_files-1:\n",
    "            break\n",
    "    \n",
    "    with open(passages_path, 'wb') as f:\n",
    "        pickle.dump(passages_list, f)"
   ]
  },
  {
   "cell_type": "code",
   "execution_count": 15,
   "metadata": {},
   "outputs": [
    {
     "name": "stdout",
     "output_type": "stream",
     "text": [
      "passages.0.pt\n",
      "passages.1.pt\n",
      "passages.2.pt\n",
      "passages.3.pt\n",
      "passages.4.pt\n",
      "passages.5.pt\n",
      "passages.6.pt\n",
      "passages.7.pt\n",
      "passages.8.pt\n",
      "passages.9.pt\n",
      "passages.10.pt\n",
      "passages.11.pt\n",
      "passages.12.pt\n",
      "passages.13.pt\n",
      "passages.14.pt\n",
      "passages.15.pt\n",
      "passages.16.pt\n",
      "passages.17.pt\n",
      "passages.18.pt\n",
      "passages.19.pt\n",
      "passages.20.pt\n",
      "passages.21.pt\n",
      "passages.22.pt\n",
      "passages.23.pt\n",
      "passages.24.pt\n",
      "passages.25.pt\n",
      "passages.26.pt\n",
      "passages.27.pt\n"
     ]
    }
   ],
   "source": [
    "build_passages(output_index_dir, passages_path)"
   ]
  },
  {
   "cell_type": "code",
   "execution_count": 6,
   "metadata": {},
   "outputs": [
    {
     "data": {
      "text/plain": [
       "7030352"
      ]
     },
     "execution_count": 6,
     "metadata": {},
     "output_type": "execute_result"
    }
   ],
   "source": [
    "# Load passages to test\n",
    "with open(passages_path, 'rb') as f:\n",
    "    passages = pickle.load(f)\n",
    "len(passages)"
   ]
  }
 ],
 "metadata": {
  "kernelspec": {
   "display_name": "rag",
   "language": "python",
   "name": "python3"
  },
  "language_info": {
   "codemirror_mode": {
    "name": "ipython",
    "version": 3
   },
   "file_extension": ".py",
   "mimetype": "text/x-python",
   "name": "python",
   "nbconvert_exporter": "python",
   "pygments_lexer": "ipython3",
   "version": "3.10.6"
  }
 },
 "nbformat": 4,
 "nbformat_minor": 2
}
