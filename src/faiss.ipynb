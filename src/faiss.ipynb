{
 "cells": [
  {
   "cell_type": "code",
   "execution_count": 1,
   "metadata": {},
   "outputs": [],
   "source": [
    "# Imports\n",
    "import duckdb"
   ]
  },
  {
   "cell_type": "code",
   "execution_count": 2,
   "metadata": {},
   "outputs": [],
   "source": [
    "# Create duckdb instance\n",
    "# allow_unsigned_extensions: to load your own extensions or extensions from third-parties\n",
    "con = duckdb.connect(config = {'allow_unsigned_extensions': 'true'})\n",
    "\n",
    "# Load FAISS extension\n",
    "con.sql(\"LOAD '../faiss/build/release/repository/v1.0.0/linux_amd64/faiss.duckdb_extension'\")"
   ]
  }
 ],
 "metadata": {
  "kernelspec": {
   "display_name": "rag",
   "language": "python",
   "name": "python3"
  },
  "language_info": {
   "codemirror_mode": {
    "name": "ipython",
    "version": 3
   },
   "file_extension": ".py",
   "mimetype": "text/x-python",
   "name": "python",
   "nbconvert_exporter": "python",
   "pygments_lexer": "ipython3",
   "version": "3.10.12"
  }
 },
 "nbformat": 4,
 "nbformat_minor": 2
}
